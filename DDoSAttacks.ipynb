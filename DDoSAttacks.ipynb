{
 "cells": [
  {
   "cell_type": "code",
   "execution_count": 1,
   "id": "a8b3879b-800a-4756-9c0e-0c1ae25a2c58",
   "metadata": {},
   "outputs": [],
   "source": [
    "import pandas as pd\n",
    "import numpy as np\n",
    "import os\n",
    "\n",
    "df = pd.read_csv('CSE-CIC-IDS2018.csv', low_memory=False)"
   ]
  },
  {
   "cell_type": "code",
   "execution_count": 2,
   "id": "79838bc1-6a23-44eb-9a4b-fe8d5caad0c3",
   "metadata": {},
   "outputs": [
    {
     "data": {
      "text/html": [
       "<div>\n",
       "<style scoped>\n",
       "    .dataframe tbody tr th:only-of-type {\n",
       "        vertical-align: middle;\n",
       "    }\n",
       "\n",
       "    .dataframe tbody tr th {\n",
       "        vertical-align: top;\n",
       "    }\n",
       "\n",
       "    .dataframe thead th {\n",
       "        text-align: right;\n",
       "    }\n",
       "</style>\n",
       "<table border=\"1\" class=\"dataframe\">\n",
       "  <thead>\n",
       "    <tr style=\"text-align: right;\">\n",
       "      <th></th>\n",
       "      <th>Dst Port</th>\n",
       "      <th>Protocol</th>\n",
       "      <th>Timestamp</th>\n",
       "      <th>Flow Duration</th>\n",
       "      <th>Tot Fwd Pkts</th>\n",
       "      <th>Tot Bwd Pkts</th>\n",
       "      <th>TotLen Fwd Pkts</th>\n",
       "      <th>TotLen Bwd Pkts</th>\n",
       "      <th>Fwd Pkt Len Max</th>\n",
       "      <th>Fwd Pkt Len Min</th>\n",
       "      <th>...</th>\n",
       "      <th>Fwd Seg Size Min</th>\n",
       "      <th>Active Mean</th>\n",
       "      <th>Active Std</th>\n",
       "      <th>Active Max</th>\n",
       "      <th>Active Min</th>\n",
       "      <th>Idle Mean</th>\n",
       "      <th>Idle Std</th>\n",
       "      <th>Idle Max</th>\n",
       "      <th>Idle Min</th>\n",
       "      <th>Label</th>\n",
       "    </tr>\n",
       "  </thead>\n",
       "  <tbody>\n",
       "    <tr>\n",
       "      <th>0</th>\n",
       "      <td>0</td>\n",
       "      <td>0</td>\n",
       "      <td>14/02/2018 08:31:01</td>\n",
       "      <td>112641719</td>\n",
       "      <td>3</td>\n",
       "      <td>0</td>\n",
       "      <td>0</td>\n",
       "      <td>0</td>\n",
       "      <td>0</td>\n",
       "      <td>0</td>\n",
       "      <td>...</td>\n",
       "      <td>0</td>\n",
       "      <td>0.0</td>\n",
       "      <td>0.0</td>\n",
       "      <td>0</td>\n",
       "      <td>0</td>\n",
       "      <td>56320859.5</td>\n",
       "      <td>139.300036</td>\n",
       "      <td>56320958</td>\n",
       "      <td>56320761</td>\n",
       "      <td>Benign</td>\n",
       "    </tr>\n",
       "    <tr>\n",
       "      <th>1</th>\n",
       "      <td>0</td>\n",
       "      <td>0</td>\n",
       "      <td>14/02/2018 08:33:50</td>\n",
       "      <td>112641466</td>\n",
       "      <td>3</td>\n",
       "      <td>0</td>\n",
       "      <td>0</td>\n",
       "      <td>0</td>\n",
       "      <td>0</td>\n",
       "      <td>0</td>\n",
       "      <td>...</td>\n",
       "      <td>0</td>\n",
       "      <td>0.0</td>\n",
       "      <td>0.0</td>\n",
       "      <td>0</td>\n",
       "      <td>0</td>\n",
       "      <td>56320733.0</td>\n",
       "      <td>114.551299</td>\n",
       "      <td>56320814</td>\n",
       "      <td>56320652</td>\n",
       "      <td>Benign</td>\n",
       "    </tr>\n",
       "    <tr>\n",
       "      <th>2</th>\n",
       "      <td>0</td>\n",
       "      <td>0</td>\n",
       "      <td>14/02/2018 08:36:39</td>\n",
       "      <td>112638623</td>\n",
       "      <td>3</td>\n",
       "      <td>0</td>\n",
       "      <td>0</td>\n",
       "      <td>0</td>\n",
       "      <td>0</td>\n",
       "      <td>0</td>\n",
       "      <td>...</td>\n",
       "      <td>0</td>\n",
       "      <td>0.0</td>\n",
       "      <td>0.0</td>\n",
       "      <td>0</td>\n",
       "      <td>0</td>\n",
       "      <td>56319311.5</td>\n",
       "      <td>301.934596</td>\n",
       "      <td>56319525</td>\n",
       "      <td>56319098</td>\n",
       "      <td>Benign</td>\n",
       "    </tr>\n",
       "    <tr>\n",
       "      <th>3</th>\n",
       "      <td>22</td>\n",
       "      <td>6</td>\n",
       "      <td>14/02/2018 08:40:13</td>\n",
       "      <td>6453966</td>\n",
       "      <td>15</td>\n",
       "      <td>10</td>\n",
       "      <td>1239</td>\n",
       "      <td>2273</td>\n",
       "      <td>744</td>\n",
       "      <td>0</td>\n",
       "      <td>...</td>\n",
       "      <td>32</td>\n",
       "      <td>0.0</td>\n",
       "      <td>0.0</td>\n",
       "      <td>0</td>\n",
       "      <td>0</td>\n",
       "      <td>0.0</td>\n",
       "      <td>0.000000</td>\n",
       "      <td>0</td>\n",
       "      <td>0</td>\n",
       "      <td>Benign</td>\n",
       "    </tr>\n",
       "    <tr>\n",
       "      <th>4</th>\n",
       "      <td>22</td>\n",
       "      <td>6</td>\n",
       "      <td>14/02/2018 08:40:23</td>\n",
       "      <td>8804066</td>\n",
       "      <td>14</td>\n",
       "      <td>11</td>\n",
       "      <td>1143</td>\n",
       "      <td>2209</td>\n",
       "      <td>744</td>\n",
       "      <td>0</td>\n",
       "      <td>...</td>\n",
       "      <td>32</td>\n",
       "      <td>0.0</td>\n",
       "      <td>0.0</td>\n",
       "      <td>0</td>\n",
       "      <td>0</td>\n",
       "      <td>0.0</td>\n",
       "      <td>0.000000</td>\n",
       "      <td>0</td>\n",
       "      <td>0</td>\n",
       "      <td>Benign</td>\n",
       "    </tr>\n",
       "  </tbody>\n",
       "</table>\n",
       "<p>5 rows × 80 columns</p>\n",
       "</div>"
      ],
      "text/plain": [
       "   Dst Port  Protocol            Timestamp  Flow Duration  Tot Fwd Pkts  \\\n",
       "0         0         0  14/02/2018 08:31:01      112641719             3   \n",
       "1         0         0  14/02/2018 08:33:50      112641466             3   \n",
       "2         0         0  14/02/2018 08:36:39      112638623             3   \n",
       "3        22         6  14/02/2018 08:40:13        6453966            15   \n",
       "4        22         6  14/02/2018 08:40:23        8804066            14   \n",
       "\n",
       "   Tot Bwd Pkts  TotLen Fwd Pkts  TotLen Bwd Pkts  Fwd Pkt Len Max  \\\n",
       "0             0                0                0                0   \n",
       "1             0                0                0                0   \n",
       "2             0                0                0                0   \n",
       "3            10             1239             2273              744   \n",
       "4            11             1143             2209              744   \n",
       "\n",
       "   Fwd Pkt Len Min  ...  Fwd Seg Size Min  Active Mean  Active Std  \\\n",
       "0                0  ...                 0          0.0         0.0   \n",
       "1                0  ...                 0          0.0         0.0   \n",
       "2                0  ...                 0          0.0         0.0   \n",
       "3                0  ...                32          0.0         0.0   \n",
       "4                0  ...                32          0.0         0.0   \n",
       "\n",
       "   Active Max  Active Min   Idle Mean    Idle Std  Idle Max  Idle Min   Label  \n",
       "0           0           0  56320859.5  139.300036  56320958  56320761  Benign  \n",
       "1           0           0  56320733.0  114.551299  56320814  56320652  Benign  \n",
       "2           0           0  56319311.5  301.934596  56319525  56319098  Benign  \n",
       "3           0           0         0.0    0.000000         0         0  Benign  \n",
       "4           0           0         0.0    0.000000         0         0  Benign  \n",
       "\n",
       "[5 rows x 80 columns]"
      ]
     },
     "execution_count": 2,
     "metadata": {},
     "output_type": "execute_result"
    }
   ],
   "source": [
    "df.head()"
   ]
  },
  {
   "cell_type": "code",
   "execution_count": 3,
   "id": "f681bea1-6446-4c7f-9ef7-8078cd4dcf51",
   "metadata": {},
   "outputs": [
    {
     "data": {
      "text/plain": [
       "Dst Port         1048575\n",
       "Protocol         1048575\n",
       "Timestamp        1048575\n",
       "Flow Duration    1048575\n",
       "Tot Fwd Pkts     1048575\n",
       "                  ...   \n",
       "Idle Mean        1048575\n",
       "Idle Std         1048575\n",
       "Idle Max         1048575\n",
       "Idle Min         1048575\n",
       "Label            1048575\n",
       "Length: 80, dtype: int64"
      ]
     },
     "execution_count": 3,
     "metadata": {},
     "output_type": "execute_result"
    }
   ],
   "source": [
    "df.count()"
   ]
  },
  {
   "cell_type": "code",
   "execution_count": 4,
   "id": "7c8421f4-7e7c-4aa5-b060-b002f9f5cbbd",
   "metadata": {},
   "outputs": [
    {
     "data": {
      "text/html": [
       "<div>\n",
       "<style scoped>\n",
       "    .dataframe tbody tr th:only-of-type {\n",
       "        vertical-align: middle;\n",
       "    }\n",
       "\n",
       "    .dataframe tbody tr th {\n",
       "        vertical-align: top;\n",
       "    }\n",
       "\n",
       "    .dataframe thead th {\n",
       "        text-align: right;\n",
       "    }\n",
       "</style>\n",
       "<table border=\"1\" class=\"dataframe\">\n",
       "  <thead>\n",
       "    <tr style=\"text-align: right;\">\n",
       "      <th></th>\n",
       "      <th>Dst Port</th>\n",
       "      <th>Protocol</th>\n",
       "      <th>Flow Duration</th>\n",
       "      <th>Tot Fwd Pkts</th>\n",
       "      <th>Tot Bwd Pkts</th>\n",
       "      <th>TotLen Fwd Pkts</th>\n",
       "      <th>TotLen Bwd Pkts</th>\n",
       "      <th>Fwd Pkt Len Max</th>\n",
       "      <th>Fwd Pkt Len Min</th>\n",
       "      <th>Fwd Pkt Len Mean</th>\n",
       "      <th>...</th>\n",
       "      <th>Fwd Act Data Pkts</th>\n",
       "      <th>Fwd Seg Size Min</th>\n",
       "      <th>Active Mean</th>\n",
       "      <th>Active Std</th>\n",
       "      <th>Active Max</th>\n",
       "      <th>Active Min</th>\n",
       "      <th>Idle Mean</th>\n",
       "      <th>Idle Std</th>\n",
       "      <th>Idle Max</th>\n",
       "      <th>Idle Min</th>\n",
       "    </tr>\n",
       "  </thead>\n",
       "  <tbody>\n",
       "    <tr>\n",
       "      <th>count</th>\n",
       "      <td>1.048575e+06</td>\n",
       "      <td>1.048575e+06</td>\n",
       "      <td>1.048575e+06</td>\n",
       "      <td>1.048575e+06</td>\n",
       "      <td>1.048575e+06</td>\n",
       "      <td>1.048575e+06</td>\n",
       "      <td>1.048575e+06</td>\n",
       "      <td>1.048575e+06</td>\n",
       "      <td>1.048575e+06</td>\n",
       "      <td>1.048575e+06</td>\n",
       "      <td>...</td>\n",
       "      <td>1.048575e+06</td>\n",
       "      <td>1.048575e+06</td>\n",
       "      <td>1.048575e+06</td>\n",
       "      <td>1.048575e+06</td>\n",
       "      <td>1.048575e+06</td>\n",
       "      <td>1.048575e+06</td>\n",
       "      <td>1.048575e+06</td>\n",
       "      <td>1.048575e+06</td>\n",
       "      <td>1.048575e+06</td>\n",
       "      <td>1.048575e+06</td>\n",
       "    </tr>\n",
       "    <tr>\n",
       "      <th>mean</th>\n",
       "      <td>4.876262e+03</td>\n",
       "      <td>8.107557e+00</td>\n",
       "      <td>6.255555e+06</td>\n",
       "      <td>6.206622e+00</td>\n",
       "      <td>7.211191e+00</td>\n",
       "      <td>4.479936e+02</td>\n",
       "      <td>4.521803e+03</td>\n",
       "      <td>1.745736e+02</td>\n",
       "      <td>8.389535e+00</td>\n",
       "      <td>3.879579e+01</td>\n",
       "      <td>...</td>\n",
       "      <td>2.793536e+00</td>\n",
       "      <td>2.327970e+01</td>\n",
       "      <td>5.152449e+04</td>\n",
       "      <td>2.136151e+04</td>\n",
       "      <td>8.789157e+04</td>\n",
       "      <td>3.995477e+04</td>\n",
       "      <td>3.101206e+06</td>\n",
       "      <td>7.297218e+05</td>\n",
       "      <td>4.812391e+06</td>\n",
       "      <td>2.126920e+06</td>\n",
       "    </tr>\n",
       "    <tr>\n",
       "      <th>std</th>\n",
       "      <td>1.444344e+04</td>\n",
       "      <td>4.460625e+00</td>\n",
       "      <td>1.260291e+09</td>\n",
       "      <td>4.447851e+01</td>\n",
       "      <td>1.048682e+02</td>\n",
       "      <td>1.573541e+04</td>\n",
       "      <td>1.515021e+05</td>\n",
       "      <td>2.876713e+02</td>\n",
       "      <td>1.948279e+01</td>\n",
       "      <td>5.331882e+01</td>\n",
       "      <td>...</td>\n",
       "      <td>5.557106e+00</td>\n",
       "      <td>1.106185e+01</td>\n",
       "      <td>5.815586e+05</td>\n",
       "      <td>2.186405e+05</td>\n",
       "      <td>7.395725e+05</td>\n",
       "      <td>5.602693e+05</td>\n",
       "      <td>5.414780e+08</td>\n",
       "      <td>3.820031e+08</td>\n",
       "      <td>1.522117e+09</td>\n",
       "      <td>1.817013e+07</td>\n",
       "    </tr>\n",
       "    <tr>\n",
       "      <th>min</th>\n",
       "      <td>0.000000e+00</td>\n",
       "      <td>0.000000e+00</td>\n",
       "      <td>-9.190110e+11</td>\n",
       "      <td>1.000000e+00</td>\n",
       "      <td>0.000000e+00</td>\n",
       "      <td>0.000000e+00</td>\n",
       "      <td>0.000000e+00</td>\n",
       "      <td>0.000000e+00</td>\n",
       "      <td>0.000000e+00</td>\n",
       "      <td>0.000000e+00</td>\n",
       "      <td>...</td>\n",
       "      <td>0.000000e+00</td>\n",
       "      <td>0.000000e+00</td>\n",
       "      <td>0.000000e+00</td>\n",
       "      <td>0.000000e+00</td>\n",
       "      <td>0.000000e+00</td>\n",
       "      <td>0.000000e+00</td>\n",
       "      <td>0.000000e+00</td>\n",
       "      <td>0.000000e+00</td>\n",
       "      <td>0.000000e+00</td>\n",
       "      <td>0.000000e+00</td>\n",
       "    </tr>\n",
       "    <tr>\n",
       "      <th>25%</th>\n",
       "      <td>2.200000e+01</td>\n",
       "      <td>6.000000e+00</td>\n",
       "      <td>7.000000e+00</td>\n",
       "      <td>1.000000e+00</td>\n",
       "      <td>1.000000e+00</td>\n",
       "      <td>0.000000e+00</td>\n",
       "      <td>0.000000e+00</td>\n",
       "      <td>0.000000e+00</td>\n",
       "      <td>0.000000e+00</td>\n",
       "      <td>0.000000e+00</td>\n",
       "      <td>...</td>\n",
       "      <td>0.000000e+00</td>\n",
       "      <td>2.000000e+01</td>\n",
       "      <td>0.000000e+00</td>\n",
       "      <td>0.000000e+00</td>\n",
       "      <td>0.000000e+00</td>\n",
       "      <td>0.000000e+00</td>\n",
       "      <td>0.000000e+00</td>\n",
       "      <td>0.000000e+00</td>\n",
       "      <td>0.000000e+00</td>\n",
       "      <td>0.000000e+00</td>\n",
       "    </tr>\n",
       "    <tr>\n",
       "      <th>50%</th>\n",
       "      <td>5.300000e+01</td>\n",
       "      <td>6.000000e+00</td>\n",
       "      <td>1.023000e+03</td>\n",
       "      <td>2.000000e+00</td>\n",
       "      <td>1.000000e+00</td>\n",
       "      <td>3.600000e+01</td>\n",
       "      <td>5.500000e+01</td>\n",
       "      <td>3.400000e+01</td>\n",
       "      <td>0.000000e+00</td>\n",
       "      <td>2.566667e+01</td>\n",
       "      <td>...</td>\n",
       "      <td>0.000000e+00</td>\n",
       "      <td>2.000000e+01</td>\n",
       "      <td>0.000000e+00</td>\n",
       "      <td>0.000000e+00</td>\n",
       "      <td>0.000000e+00</td>\n",
       "      <td>0.000000e+00</td>\n",
       "      <td>0.000000e+00</td>\n",
       "      <td>0.000000e+00</td>\n",
       "      <td>0.000000e+00</td>\n",
       "      <td>0.000000e+00</td>\n",
       "    </tr>\n",
       "    <tr>\n",
       "      <th>75%</th>\n",
       "      <td>4.430000e+02</td>\n",
       "      <td>6.000000e+00</td>\n",
       "      <td>4.066690e+05</td>\n",
       "      <td>7.000000e+00</td>\n",
       "      <td>6.000000e+00</td>\n",
       "      <td>4.550000e+02</td>\n",
       "      <td>7.680000e+02</td>\n",
       "      <td>1.990000e+02</td>\n",
       "      <td>0.000000e+00</td>\n",
       "      <td>5.550000e+01</td>\n",
       "      <td>...</td>\n",
       "      <td>4.000000e+00</td>\n",
       "      <td>3.200000e+01</td>\n",
       "      <td>0.000000e+00</td>\n",
       "      <td>0.000000e+00</td>\n",
       "      <td>0.000000e+00</td>\n",
       "      <td>0.000000e+00</td>\n",
       "      <td>0.000000e+00</td>\n",
       "      <td>0.000000e+00</td>\n",
       "      <td>0.000000e+00</td>\n",
       "      <td>0.000000e+00</td>\n",
       "    </tr>\n",
       "    <tr>\n",
       "      <th>max</th>\n",
       "      <td>6.553300e+04</td>\n",
       "      <td>1.700000e+01</td>\n",
       "      <td>1.200000e+08</td>\n",
       "      <td>5.115000e+03</td>\n",
       "      <td>9.198000e+03</td>\n",
       "      <td>8.591554e+06</td>\n",
       "      <td>1.339773e+07</td>\n",
       "      <td>6.444000e+04</td>\n",
       "      <td>1.460000e+03</td>\n",
       "      <td>1.121703e+04</td>\n",
       "      <td>...</td>\n",
       "      <td>1.031000e+03</td>\n",
       "      <td>4.800000e+01</td>\n",
       "      <td>1.102401e+08</td>\n",
       "      <td>5.723446e+07</td>\n",
       "      <td>1.102401e+08</td>\n",
       "      <td>1.102401e+08</td>\n",
       "      <td>3.394503e+11</td>\n",
       "      <td>2.432682e+11</td>\n",
       "      <td>9.797810e+11</td>\n",
       "      <td>1.260300e+10</td>\n",
       "    </tr>\n",
       "  </tbody>\n",
       "</table>\n",
       "<p>8 rows × 78 columns</p>\n",
       "</div>"
      ],
      "text/plain": [
       "           Dst Port      Protocol  Flow Duration  Tot Fwd Pkts  Tot Bwd Pkts  \\\n",
       "count  1.048575e+06  1.048575e+06   1.048575e+06  1.048575e+06  1.048575e+06   \n",
       "mean   4.876262e+03  8.107557e+00   6.255555e+06  6.206622e+00  7.211191e+00   \n",
       "std    1.444344e+04  4.460625e+00   1.260291e+09  4.447851e+01  1.048682e+02   \n",
       "min    0.000000e+00  0.000000e+00  -9.190110e+11  1.000000e+00  0.000000e+00   \n",
       "25%    2.200000e+01  6.000000e+00   7.000000e+00  1.000000e+00  1.000000e+00   \n",
       "50%    5.300000e+01  6.000000e+00   1.023000e+03  2.000000e+00  1.000000e+00   \n",
       "75%    4.430000e+02  6.000000e+00   4.066690e+05  7.000000e+00  6.000000e+00   \n",
       "max    6.553300e+04  1.700000e+01   1.200000e+08  5.115000e+03  9.198000e+03   \n",
       "\n",
       "       TotLen Fwd Pkts  TotLen Bwd Pkts  Fwd Pkt Len Max  Fwd Pkt Len Min  \\\n",
       "count     1.048575e+06     1.048575e+06     1.048575e+06     1.048575e+06   \n",
       "mean      4.479936e+02     4.521803e+03     1.745736e+02     8.389535e+00   \n",
       "std       1.573541e+04     1.515021e+05     2.876713e+02     1.948279e+01   \n",
       "min       0.000000e+00     0.000000e+00     0.000000e+00     0.000000e+00   \n",
       "25%       0.000000e+00     0.000000e+00     0.000000e+00     0.000000e+00   \n",
       "50%       3.600000e+01     5.500000e+01     3.400000e+01     0.000000e+00   \n",
       "75%       4.550000e+02     7.680000e+02     1.990000e+02     0.000000e+00   \n",
       "max       8.591554e+06     1.339773e+07     6.444000e+04     1.460000e+03   \n",
       "\n",
       "       Fwd Pkt Len Mean  ...  Fwd Act Data Pkts  Fwd Seg Size Min  \\\n",
       "count      1.048575e+06  ...       1.048575e+06      1.048575e+06   \n",
       "mean       3.879579e+01  ...       2.793536e+00      2.327970e+01   \n",
       "std        5.331882e+01  ...       5.557106e+00      1.106185e+01   \n",
       "min        0.000000e+00  ...       0.000000e+00      0.000000e+00   \n",
       "25%        0.000000e+00  ...       0.000000e+00      2.000000e+01   \n",
       "50%        2.566667e+01  ...       0.000000e+00      2.000000e+01   \n",
       "75%        5.550000e+01  ...       4.000000e+00      3.200000e+01   \n",
       "max        1.121703e+04  ...       1.031000e+03      4.800000e+01   \n",
       "\n",
       "        Active Mean    Active Std    Active Max    Active Min     Idle Mean  \\\n",
       "count  1.048575e+06  1.048575e+06  1.048575e+06  1.048575e+06  1.048575e+06   \n",
       "mean   5.152449e+04  2.136151e+04  8.789157e+04  3.995477e+04  3.101206e+06   \n",
       "std    5.815586e+05  2.186405e+05  7.395725e+05  5.602693e+05  5.414780e+08   \n",
       "min    0.000000e+00  0.000000e+00  0.000000e+00  0.000000e+00  0.000000e+00   \n",
       "25%    0.000000e+00  0.000000e+00  0.000000e+00  0.000000e+00  0.000000e+00   \n",
       "50%    0.000000e+00  0.000000e+00  0.000000e+00  0.000000e+00  0.000000e+00   \n",
       "75%    0.000000e+00  0.000000e+00  0.000000e+00  0.000000e+00  0.000000e+00   \n",
       "max    1.102401e+08  5.723446e+07  1.102401e+08  1.102401e+08  3.394503e+11   \n",
       "\n",
       "           Idle Std      Idle Max      Idle Min  \n",
       "count  1.048575e+06  1.048575e+06  1.048575e+06  \n",
       "mean   7.297218e+05  4.812391e+06  2.126920e+06  \n",
       "std    3.820031e+08  1.522117e+09  1.817013e+07  \n",
       "min    0.000000e+00  0.000000e+00  0.000000e+00  \n",
       "25%    0.000000e+00  0.000000e+00  0.000000e+00  \n",
       "50%    0.000000e+00  0.000000e+00  0.000000e+00  \n",
       "75%    0.000000e+00  0.000000e+00  0.000000e+00  \n",
       "max    2.432682e+11  9.797810e+11  1.260300e+10  \n",
       "\n",
       "[8 rows x 78 columns]"
      ]
     },
     "execution_count": 4,
     "metadata": {},
     "output_type": "execute_result"
    }
   ],
   "source": [
    "df.describe()"
   ]
  },
  {
   "cell_type": "code",
   "execution_count": 5,
   "id": "9cdbb3d7-c8ff-4dfe-a45f-daead3b47c07",
   "metadata": {},
   "outputs": [
    {
     "data": {
      "text/plain": [
       "Dst Port         0\n",
       "Protocol         0\n",
       "Timestamp        0\n",
       "Flow Duration    0\n",
       "Tot Fwd Pkts     0\n",
       "                ..\n",
       "Idle Mean        0\n",
       "Idle Std         0\n",
       "Idle Max         0\n",
       "Idle Min         0\n",
       "Label            0\n",
       "Length: 80, dtype: int64"
      ]
     },
     "execution_count": 5,
     "metadata": {},
     "output_type": "execute_result"
    }
   ],
   "source": [
    "df.isnull().sum()"
   ]
  },
  {
   "cell_type": "code",
   "execution_count": 6,
   "id": "1e49d1aa-3861-4b37-8468-12fb6d53f349",
   "metadata": {},
   "outputs": [
    {
     "data": {
      "text/plain": [
       "Label\n",
       "Benign            667626\n",
       "FTP-BruteForce    193360\n",
       "SSH-Bruteforce    187589\n",
       "Name: count, dtype: int64"
      ]
     },
     "execution_count": 6,
     "metadata": {},
     "output_type": "execute_result"
    }
   ],
   "source": [
    "df['Label'].value_counts()"
   ]
  },
  {
   "cell_type": "code",
   "execution_count": 7,
   "id": "3d76a72b-c425-4b81-be67-4ac6bd2e3a30",
   "metadata": {},
   "outputs": [],
   "source": [
    "df.replace(to_replace=[\"FTP-BruteForce\", \"SSH-Bruteforce\"], value=\"Malicious\", inplace=True)"
   ]
  },
  {
   "cell_type": "code",
   "execution_count": 8,
   "id": "fedccb3d-a342-4ecd-8959-45ddfeb42694",
   "metadata": {},
   "outputs": [
    {
     "data": {
      "text/plain": [
       "Label\n",
       "Benign       667626\n",
       "Malicious    380949\n",
       "Name: count, dtype: int64"
      ]
     },
     "execution_count": 8,
     "metadata": {},
     "output_type": "execute_result"
    }
   ],
   "source": [
    "df['Label'].value_counts()"
   ]
  },
  {
   "cell_type": "code",
   "execution_count": 9,
   "id": "e0e8fe52-f9cb-403d-800c-6cf3d853d568",
   "metadata": {},
   "outputs": [],
   "source": [
    "#label Encoding malicious=1 and bening=0\n",
    "from sklearn import preprocessing\n",
    "le = preprocessing.LabelEncoder()\n",
    "df['status'] = le.fit_transform(df['Label'])"
   ]
  },
  {
   "cell_type": "code",
   "execution_count": 10,
   "id": "713a22ec-3031-4aec-88c2-fd3218d570b5",
   "metadata": {},
   "outputs": [
    {
     "data": {
      "text/html": [
       "<div>\n",
       "<style scoped>\n",
       "    .dataframe tbody tr th:only-of-type {\n",
       "        vertical-align: middle;\n",
       "    }\n",
       "\n",
       "    .dataframe tbody tr th {\n",
       "        vertical-align: top;\n",
       "    }\n",
       "\n",
       "    .dataframe thead th {\n",
       "        text-align: right;\n",
       "    }\n",
       "</style>\n",
       "<table border=\"1\" class=\"dataframe\">\n",
       "  <thead>\n",
       "    <tr style=\"text-align: right;\">\n",
       "      <th></th>\n",
       "      <th>status</th>\n",
       "      <th>Label</th>\n",
       "    </tr>\n",
       "  </thead>\n",
       "  <tbody>\n",
       "    <tr>\n",
       "      <th>0</th>\n",
       "      <td>0</td>\n",
       "      <td>Benign</td>\n",
       "    </tr>\n",
       "    <tr>\n",
       "      <th>1</th>\n",
       "      <td>0</td>\n",
       "      <td>Benign</td>\n",
       "    </tr>\n",
       "    <tr>\n",
       "      <th>2</th>\n",
       "      <td>0</td>\n",
       "      <td>Benign</td>\n",
       "    </tr>\n",
       "    <tr>\n",
       "      <th>3</th>\n",
       "      <td>0</td>\n",
       "      <td>Benign</td>\n",
       "    </tr>\n",
       "    <tr>\n",
       "      <th>4</th>\n",
       "      <td>0</td>\n",
       "      <td>Benign</td>\n",
       "    </tr>\n",
       "    <tr>\n",
       "      <th>5</th>\n",
       "      <td>0</td>\n",
       "      <td>Benign</td>\n",
       "    </tr>\n",
       "    <tr>\n",
       "      <th>6</th>\n",
       "      <td>0</td>\n",
       "      <td>Benign</td>\n",
       "    </tr>\n",
       "    <tr>\n",
       "      <th>7</th>\n",
       "      <td>0</td>\n",
       "      <td>Benign</td>\n",
       "    </tr>\n",
       "    <tr>\n",
       "      <th>8</th>\n",
       "      <td>0</td>\n",
       "      <td>Benign</td>\n",
       "    </tr>\n",
       "    <tr>\n",
       "      <th>9</th>\n",
       "      <td>0</td>\n",
       "      <td>Benign</td>\n",
       "    </tr>\n",
       "  </tbody>\n",
       "</table>\n",
       "</div>"
      ],
      "text/plain": [
       "   status   Label\n",
       "0       0  Benign\n",
       "1       0  Benign\n",
       "2       0  Benign\n",
       "3       0  Benign\n",
       "4       0  Benign\n",
       "5       0  Benign\n",
       "6       0  Benign\n",
       "7       0  Benign\n",
       "8       0  Benign\n",
       "9       0  Benign"
      ]
     },
     "execution_count": 10,
     "metadata": {},
     "output_type": "execute_result"
    }
   ],
   "source": [
    "df[['status','Label']].head(10)"
   ]
  },
  {
   "cell_type": "code",
   "execution_count": 11,
   "id": "46cb6155-db65-41d2-b598-2740f48b39ea",
   "metadata": {},
   "outputs": [],
   "source": [
    "df=df.replace('NaN', float(np.nan), regex=True)"
   ]
  },
  {
   "cell_type": "code",
   "execution_count": 12,
   "id": "ddc65fbf-dd26-4725-b604-6bf48f932c3a",
   "metadata": {},
   "outputs": [],
   "source": [
    "cleaned_data = df[[\n",
    "    'Dst Port', \n",
    "    'Protocol',\n",
    "    'Flow Duration',  \n",
    "    'Tot Fwd Pkts', \n",
    "    'Tot Bwd Pkts',\n",
    "    'Label',\n",
    "    'status'\n",
    "]]"
   ]
  },
  {
   "cell_type": "code",
   "execution_count": 13,
   "id": "8edf1ae9-50fd-4800-a416-307e3ece6b2b",
   "metadata": {},
   "outputs": [
    {
     "data": {
      "text/html": [
       "<div>\n",
       "<style scoped>\n",
       "    .dataframe tbody tr th:only-of-type {\n",
       "        vertical-align: middle;\n",
       "    }\n",
       "\n",
       "    .dataframe tbody tr th {\n",
       "        vertical-align: top;\n",
       "    }\n",
       "\n",
       "    .dataframe thead th {\n",
       "        text-align: right;\n",
       "    }\n",
       "</style>\n",
       "<table border=\"1\" class=\"dataframe\">\n",
       "  <thead>\n",
       "    <tr style=\"text-align: right;\">\n",
       "      <th></th>\n",
       "      <th>Dst Port</th>\n",
       "      <th>Protocol</th>\n",
       "      <th>Flow Duration</th>\n",
       "      <th>Tot Fwd Pkts</th>\n",
       "      <th>Tot Bwd Pkts</th>\n",
       "      <th>Label</th>\n",
       "      <th>status</th>\n",
       "    </tr>\n",
       "  </thead>\n",
       "  <tbody>\n",
       "    <tr>\n",
       "      <th>0</th>\n",
       "      <td>0</td>\n",
       "      <td>0</td>\n",
       "      <td>112641719</td>\n",
       "      <td>3</td>\n",
       "      <td>0</td>\n",
       "      <td>Benign</td>\n",
       "      <td>0</td>\n",
       "    </tr>\n",
       "    <tr>\n",
       "      <th>1</th>\n",
       "      <td>0</td>\n",
       "      <td>0</td>\n",
       "      <td>112641466</td>\n",
       "      <td>3</td>\n",
       "      <td>0</td>\n",
       "      <td>Benign</td>\n",
       "      <td>0</td>\n",
       "    </tr>\n",
       "    <tr>\n",
       "      <th>2</th>\n",
       "      <td>0</td>\n",
       "      <td>0</td>\n",
       "      <td>112638623</td>\n",
       "      <td>3</td>\n",
       "      <td>0</td>\n",
       "      <td>Benign</td>\n",
       "      <td>0</td>\n",
       "    </tr>\n",
       "    <tr>\n",
       "      <th>3</th>\n",
       "      <td>22</td>\n",
       "      <td>6</td>\n",
       "      <td>6453966</td>\n",
       "      <td>15</td>\n",
       "      <td>10</td>\n",
       "      <td>Benign</td>\n",
       "      <td>0</td>\n",
       "    </tr>\n",
       "    <tr>\n",
       "      <th>4</th>\n",
       "      <td>22</td>\n",
       "      <td>6</td>\n",
       "      <td>8804066</td>\n",
       "      <td>14</td>\n",
       "      <td>11</td>\n",
       "      <td>Benign</td>\n",
       "      <td>0</td>\n",
       "    </tr>\n",
       "  </tbody>\n",
       "</table>\n",
       "</div>"
      ],
      "text/plain": [
       "   Dst Port  Protocol  Flow Duration  Tot Fwd Pkts  Tot Bwd Pkts   Label  \\\n",
       "0         0         0      112641719             3             0  Benign   \n",
       "1         0         0      112641466             3             0  Benign   \n",
       "2         0         0      112638623             3             0  Benign   \n",
       "3        22         6        6453966            15            10  Benign   \n",
       "4        22         6        8804066            14            11  Benign   \n",
       "\n",
       "   status  \n",
       "0       0  \n",
       "1       0  \n",
       "2       0  \n",
       "3       0  \n",
       "4       0  "
      ]
     },
     "execution_count": 13,
     "metadata": {},
     "output_type": "execute_result"
    }
   ],
   "source": [
    "cleaned_data.head(5)"
   ]
  },
  {
   "cell_type": "code",
   "execution_count": 14,
   "id": "9e3b1a38-cb70-4861-bf72-933b8aeb2199",
   "metadata": {},
   "outputs": [],
   "source": [
    "sorted_data = cleaned_data.sort_values(by=['Flow Duration', 'Protocol'])"
   ]
  },
  {
   "cell_type": "code",
   "execution_count": 15,
   "id": "69bdf61c-c97d-4fbd-8c8c-d64a6d5802c8",
   "metadata": {},
   "outputs": [
    {
     "data": {
      "text/html": [
       "<div>\n",
       "<style scoped>\n",
       "    .dataframe tbody tr th:only-of-type {\n",
       "        vertical-align: middle;\n",
       "    }\n",
       "\n",
       "    .dataframe tbody tr th {\n",
       "        vertical-align: top;\n",
       "    }\n",
       "\n",
       "    .dataframe thead th {\n",
       "        text-align: right;\n",
       "    }\n",
       "</style>\n",
       "<table border=\"1\" class=\"dataframe\">\n",
       "  <thead>\n",
       "    <tr style=\"text-align: right;\">\n",
       "      <th></th>\n",
       "      <th>Dst Port</th>\n",
       "      <th>Protocol</th>\n",
       "      <th>Flow Duration</th>\n",
       "      <th>Tot Fwd Pkts</th>\n",
       "      <th>Tot Bwd Pkts</th>\n",
       "      <th>Label</th>\n",
       "      <th>status</th>\n",
       "    </tr>\n",
       "  </thead>\n",
       "  <tbody>\n",
       "    <tr>\n",
       "      <th>410958</th>\n",
       "      <td>0</td>\n",
       "      <td>0</td>\n",
       "      <td>-919011000000</td>\n",
       "      <td>81</td>\n",
       "      <td>0</td>\n",
       "      <td>Benign</td>\n",
       "      <td>0</td>\n",
       "    </tr>\n",
       "    <tr>\n",
       "      <th>410957</th>\n",
       "      <td>0</td>\n",
       "      <td>0</td>\n",
       "      <td>-681402000000</td>\n",
       "      <td>3</td>\n",
       "      <td>0</td>\n",
       "      <td>Benign</td>\n",
       "      <td>0</td>\n",
       "    </tr>\n",
       "    <tr>\n",
       "      <th>412184</th>\n",
       "      <td>0</td>\n",
       "      <td>0</td>\n",
       "      <td>-529801000000</td>\n",
       "      <td>505</td>\n",
       "      <td>0</td>\n",
       "      <td>Benign</td>\n",
       "      <td>0</td>\n",
       "    </tr>\n",
       "    <tr>\n",
       "      <th>410959</th>\n",
       "      <td>0</td>\n",
       "      <td>0</td>\n",
       "      <td>-273850000000</td>\n",
       "      <td>282</td>\n",
       "      <td>0</td>\n",
       "      <td>Benign</td>\n",
       "      <td>0</td>\n",
       "    </tr>\n",
       "    <tr>\n",
       "      <th>410956</th>\n",
       "      <td>0</td>\n",
       "      <td>0</td>\n",
       "      <td>-11873000000</td>\n",
       "      <td>2</td>\n",
       "      <td>0</td>\n",
       "      <td>Benign</td>\n",
       "      <td>0</td>\n",
       "    </tr>\n",
       "  </tbody>\n",
       "</table>\n",
       "</div>"
      ],
      "text/plain": [
       "        Dst Port  Protocol  Flow Duration  Tot Fwd Pkts  Tot Bwd Pkts   Label  \\\n",
       "410958         0         0  -919011000000            81             0  Benign   \n",
       "410957         0         0  -681402000000             3             0  Benign   \n",
       "412184         0         0  -529801000000           505             0  Benign   \n",
       "410959         0         0  -273850000000           282             0  Benign   \n",
       "410956         0         0   -11873000000             2             0  Benign   \n",
       "\n",
       "        status  \n",
       "410958       0  \n",
       "410957       0  \n",
       "412184       0  \n",
       "410959       0  \n",
       "410956       0  "
      ]
     },
     "execution_count": 15,
     "metadata": {},
     "output_type": "execute_result"
    }
   ],
   "source": [
    "sorted_data.head(5)"
   ]
  },
  {
   "cell_type": "code",
   "execution_count": 16,
   "id": "5e68adbb-8399-46d1-8167-b8bc63cf2b18",
   "metadata": {},
   "outputs": [
    {
     "name": "stdout",
     "output_type": "stream",
     "text": [
      "<class 'pandas.core.frame.DataFrame'>\n",
      "Index: 1048575 entries, 410958 to 904690\n",
      "Data columns (total 7 columns):\n",
      " #   Column         Non-Null Count    Dtype \n",
      "---  ------         --------------    ----- \n",
      " 0   Dst Port       1048575 non-null  int64 \n",
      " 1   Protocol       1048575 non-null  int64 \n",
      " 2   Flow Duration  1048575 non-null  int64 \n",
      " 3   Tot Fwd Pkts   1048575 non-null  int64 \n",
      " 4   Tot Bwd Pkts   1048575 non-null  int64 \n",
      " 5   Label          1048575 non-null  object\n",
      " 6   status         1048575 non-null  int64 \n",
      "dtypes: int64(6), object(1)\n",
      "memory usage: 64.0+ MB\n"
     ]
    }
   ],
   "source": [
    "sorted_data.info()"
   ]
  },
  {
   "cell_type": "code",
   "execution_count": 17,
   "id": "eafe2a0d-ff68-4d35-9263-2c5aeb2f9176",
   "metadata": {},
   "outputs": [],
   "source": [
    "from sklearn.model_selection import train_test_split"
   ]
  },
  {
   "cell_type": "code",
   "execution_count": 18,
   "id": "082bc8f1-70fa-45c7-8759-3c8ea11227ff",
   "metadata": {},
   "outputs": [],
   "source": [
    "X = sorted_data[['Dst Port', 'Protocol', 'Flow Duration', 'Tot Fwd Pkts', 'Tot Bwd Pkts']]\n",
    "y = sorted_data['Label']"
   ]
  },
  {
   "cell_type": "code",
   "execution_count": 19,
   "id": "790d9c95-3f50-4c67-98d8-1fd089ea1819",
   "metadata": {},
   "outputs": [],
   "source": [
    "from sklearn.preprocessing import StandardScaler\n",
    "\n",
    "scaler = StandardScaler()\n",
    "X_scaled = scaler.fit_transform(X)"
   ]
  },
  {
   "cell_type": "code",
   "execution_count": 21,
   "id": "1db1ecf8-85d6-4276-bafb-b5d574ad522f",
   "metadata": {},
   "outputs": [
    {
     "name": "stdout",
     "output_type": "stream",
     "text": [
      "Scaled Feature:\n",
      "[[-3.37611085e-01 -1.81758429e+00 -7.29210646e+02  1.68156284e+00\n",
      "  -6.87643744e-02]\n",
      " [-3.37611085e-01 -1.81758429e+00 -5.40675544e+02 -7.20937748e-02\n",
      "  -6.87643744e-02]\n",
      " [-3.37611085e-01 -1.81758429e+00 -4.20385024e+02  1.12142603e+01\n",
      "  -6.87643744e-02]\n",
      " [-3.37611085e-01 -1.81758429e+00 -2.17296134e+02  6.20060103e+00\n",
      "  -6.87643744e-02]\n",
      " [-3.37611085e-01 -1.81758429e+00 -9.42580737e+00 -9.45765519e-02\n",
      "  -6.87643744e-02]]\n"
     ]
    }
   ],
   "source": [
    "print(\"Scaled Feature:\")\n",
    "print(X_scaled[:5])"
   ]
  },
  {
   "cell_type": "code",
   "execution_count": 22,
   "id": "78811ba7-d34c-47d9-8e86-35f6e92c917e",
   "metadata": {},
   "outputs": [],
   "source": [
    "import torch\n",
    "from sklearn.preprocessing import LabelEncoder"
   ]
  },
  {
   "cell_type": "code",
   "execution_count": 23,
   "id": "cf996fd1-eda7-4176-9cdb-b77ddf57c85a",
   "metadata": {},
   "outputs": [],
   "source": [
    "#Convert to numerical\n",
    "le = LabelEncoder()\n",
    "y_encoded = le.fit_transform(y)"
   ]
  },
  {
   "cell_type": "code",
   "execution_count": 25,
   "id": "bcaede95-5847-4623-be13-0e34118c66a2",
   "metadata": {},
   "outputs": [],
   "source": [
    "# PyTorch tensor\n",
    "X_tensor_pt = torch.tensor(X_scaled, dtype=torch.float32)\n",
    "y_tensor_pt = torch.tensor(y_encoded, dtype=torch.long)\n"
   ]
  },
  {
   "cell_type": "code",
   "execution_count": 27,
   "id": "ea1f838a-622b-4232-b41a-b8cd291e2064",
   "metadata": {},
   "outputs": [
    {
     "name": "stdout",
     "output_type": "stream",
     "text": [
      "PyTorch tensor:\n",
      "tensor([[-3.3761e-01, -1.8176e+00, -7.2921e+02,  1.6816e+00, -6.8764e-02],\n",
      "        [-3.3761e-01, -1.8176e+00, -5.4068e+02, -7.2094e-02, -6.8764e-02],\n",
      "        [-3.3761e-01, -1.8176e+00, -4.2039e+02,  1.1214e+01, -6.8764e-02],\n",
      "        [-3.3761e-01, -1.8176e+00, -2.1730e+02,  6.2006e+00, -6.8764e-02],\n",
      "        [-3.3761e-01, -1.8176e+00, -9.4258e+00, -9.4577e-02, -6.8764e-02]])\n",
      "tensor([0, 0, 0, 0, 0])\n"
     ]
    }
   ],
   "source": [
    "print(\"PyTorch tensor:\")\n",
    "print(X_tensor_pt[:5])\n",
    "print(y_tensor_pt[:5])"
   ]
  },
  {
   "cell_type": "code",
   "execution_count": 30,
   "id": "8d2f9757-d470-4733-bd44-c0fc150cd63b",
   "metadata": {},
   "outputs": [
    {
     "name": "stdout",
     "output_type": "stream",
     "text": [
      "TensorFlow tensor:\n",
      "tf.Tensor(\n",
      "[[-3.3761108e-01 -1.8175843e+00 -7.2921063e+02  1.6815628e+00\n",
      "  -6.8764374e-02]\n",
      " [-3.3761108e-01 -1.8175843e+00 -5.4067554e+02 -7.2093777e-02\n",
      "  -6.8764374e-02]\n",
      " [-3.3761108e-01 -1.8175843e+00 -4.2038501e+02  1.1214260e+01\n",
      "  -6.8764374e-02]\n",
      " [-3.3761108e-01 -1.8175843e+00 -2.1729613e+02  6.2006011e+00\n",
      "  -6.8764374e-02]\n",
      " [-3.3761108e-01 -1.8175843e+00 -9.4258070e+00 -9.4576553e-02\n",
      "  -6.8764374e-02]], shape=(5, 5), dtype=float32)\n",
      "tf.Tensor([0 0 0 0 0], shape=(5,), dtype=int64)\n"
     ]
    }
   ],
   "source": [
    "import tensorflow as tf\n",
    "\n",
    "# TensorFlow tensor convert\n",
    "X_tensor = tf.convert_to_tensor(X_scaled, dtype=tf.float32)\n",
    "y_tensor = tf.convert_to_tensor(y_encoded, dtype=tf.int64)\n",
    "\n",
    "print(\"TensorFlow tensor:\")\n",
    "print(X_tensor[:5])\n",
    "print(y_tensor[:5])\n"
   ]
  },
  {
   "cell_type": "code",
   "execution_count": 31,
   "id": "e0b7d799-efec-4138-aaf8-0ee1c4a67922",
   "metadata": {},
   "outputs": [],
   "source": [
    "import torch\n",
    "import torch.nn as nn\n",
    "import torch.optim as optim\n",
    "from torch.utils.data import TensorDataset, DataLoader"
   ]
  },
  {
   "cell_type": "markdown",
   "id": "9e6071b6-d847-4c0b-a062-fe3142ab8396",
   "metadata": {},
   "source": [
    "PYTORCH "
   ]
  },
  {
   "cell_type": "code",
   "execution_count": 32,
   "id": "249d2843-8b9b-46fe-b236-49f15c2485b3",
   "metadata": {},
   "outputs": [],
   "source": [
    "X_train, X_test, y_train, y_test = train_test_split(X_tensor_pt, y_tensor_pt, test_size=0.2, random_state=42)\n",
    "\n",
    "# PyTorch TensorDataset and DataLoader \n",
    "train_dataset = TensorDataset(X_train, y_train)\n",
    "train_loader = DataLoader(train_dataset, batch_size=64, shuffle=True)"
   ]
  },
  {
   "cell_type": "code",
   "execution_count": 33,
   "id": "b73c2682-bb62-4c25-8fd4-66e68c66004d",
   "metadata": {},
   "outputs": [],
   "source": [
    "\n",
    "class SimpleModel(nn.Module):\n",
    "    def __init__(self, input_size, output_size):\n",
    "        super(SimpleModel, self).__init__()\n",
    "        self.fc1 = nn.Linear(input_size, 64)\n",
    "        self.relu = nn.ReLU()\n",
    "        self.fc2 = nn.Linear(64, output_size)\n",
    "    \n",
    "    def forward(self, x):\n",
    "        x = self.fc1(x)\n",
    "        x = self.relu(x)\n",
    "        x = self.fc2(x)\n",
    "        return x\n",
    "\n",
    "input_size = X_train.shape[1]\n",
    "output_size = len(torch.unique(y_train))\n",
    "model = SimpleModel(input_size, output_size)\n"
   ]
  },
  {
   "cell_type": "code",
   "execution_count": 34,
   "id": "fd399d42-ed9c-4d11-a629-423d61bf937e",
   "metadata": {},
   "outputs": [],
   "source": [
    "# Optimization and loss function \n",
    "optimizer = optim.Adam(model.parameters(), lr=0.001)\n",
    "criterion = nn.CrossEntropyLoss()"
   ]
  },
  {
   "cell_type": "code",
   "execution_count": 35,
   "id": "4bc6f597-c33b-455b-b23f-d9e3744d83f1",
   "metadata": {},
   "outputs": [
    {
     "name": "stdout",
     "output_type": "stream",
     "text": [
      "Epoch 1, Loss: 0.15106282509107546\n",
      "Epoch 2, Loss: 0.09786762145199417\n",
      "Epoch 3, Loss: 0.07815449272097709\n",
      "Epoch 4, Loss: 0.0656327350906552\n",
      "Epoch 5, Loss: 0.05221448018126198\n",
      "Epoch 6, Loss: 0.03687513591731712\n",
      "Epoch 7, Loss: 0.022330383770077906\n",
      "Epoch 8, Loss: 0.007320184807717924\n",
      "Epoch 9, Loss: 0.006856500464308615\n",
      "Epoch 10, Loss: 0.008586623290945854\n"
     ]
    }
   ],
   "source": [
    "\n",
    "# Training model\n",
    "epochs = 10\n",
    "for epoch in range(epochs):\n",
    "    running_loss = 0.0\n",
    "    for inputs, labels in train_loader:\n",
    "        optimizer.zero_grad()\n",
    "        outputs = model(inputs)\n",
    "        loss = criterion(outputs, labels)\n",
    "        loss.backward()\n",
    "        optimizer.step()\n",
    "        running_loss += loss.item()\n",
    "    print(f\"Epoch {epoch+1}, Loss: {running_loss / len(train_loader)}\")\n"
   ]
  },
  {
   "cell_type": "code",
   "execution_count": 36,
   "id": "c8e842ae-1027-4194-9006-fdb62a5ada31",
   "metadata": {},
   "outputs": [
    {
     "name": "stdout",
     "output_type": "stream",
     "text": [
      "Test Accuracy: 0.9986076341701834\n"
     ]
    }
   ],
   "source": [
    "# Evaluation model\n",
    "model.eval()\n",
    "with torch.no_grad():\n",
    "    outputs = model(X_test)\n",
    "    _, predicted = torch.max(outputs, 1)\n",
    "    correct = (predicted == y_test).sum().item()\n",
    "    total = y_test.size(0)\n",
    "    accuracy = correct / total\n",
    "    print(f\"Test Accuracy: {accuracy}\")"
   ]
  },
  {
   "cell_type": "code",
   "execution_count": 39,
   "id": "7e697cf1-8d2c-4c0d-8756-97c5e7388bc7",
   "metadata": {},
   "outputs": [
    {
     "name": "stdout",
     "output_type": "stream",
     "text": [
      "Confusion Matrix:\n",
      " [[132968    290]\n",
      " [     2  76455]]\n"
     ]
    }
   ],
   "source": [
    "from sklearn.metrics import confusion_matrix\n",
    "cm = confusion_matrix(y_test.numpy(), predicted.numpy())\n",
    "print(\"Confusion Matrix:\\n\", cm)"
   ]
  },
  {
   "cell_type": "raw",
   "id": "c609ac56-8738-4a91-9461-9e5e8a5d5797",
   "metadata": {},
   "source": [
    "True Negative (TN) = 132968: Modelin negatif sınıfı doğru bir şekilde negatif olarak tahmin ettiği örnek sayısı.\n",
    "False Positive (FP) = 290: Modelin negatif sınıfı yanlışlıkla pozitif olarak tahmin ettiği örnek sayısı.\n",
    "False Negative (FN) = 2: Modelin pozitif sınıfı yanlışlıkla negatif olarak tahmin ettiği örnek sayısı.\n",
    "True Positive (TP) = 76455: Modelin pozitif sınıfı doğru bir şekilde pozitif olarak tahmin ettiği örnek sayısı."
   ]
  },
  {
   "cell_type": "code",
   "execution_count": 40,
   "id": "7aed84dc-118f-415a-b817-f97dda9c09ec",
   "metadata": {},
   "outputs": [],
   "source": [
    "import pandas as pd\n",
    "from sklearn.preprocessing import StandardScaler, LabelEncoder\n",
    "import tensorflow as tf"
   ]
  },
  {
   "cell_type": "markdown",
   "id": "b99286d9-c5d3-443b-9e83-e4423be0c28c",
   "metadata": {},
   "source": [
    "TENSORFLOW"
   ]
  },
  {
   "cell_type": "code",
   "execution_count": 41,
   "id": "6e50f323-94c3-40a0-88ed-6edb9fb16202",
   "metadata": {},
   "outputs": [],
   "source": [
    "from keras.models import Sequential\n",
    "from keras.layers import Dense, Input\n",
    "\n",
    "model = Sequential([\n",
    "    Input(shape=(input_size,)),  \n",
    "    Dense(64, activation='relu'),\n",
    "    Dense(output_size)  \n",
    "])\n"
   ]
  },
  {
   "cell_type": "code",
   "execution_count": 42,
   "id": "ea353611-827e-41da-93b3-b638fec5ea8a",
   "metadata": {},
   "outputs": [],
   "source": [
    "optimizer = tf.keras.optimizers.Adam(learning_rate=0.001)\n",
    "loss_fn = tf.keras.losses.SparseCategoricalCrossentropy(from_logits=True)"
   ]
  },
  {
   "cell_type": "code",
   "execution_count": 44,
   "id": "fc4c3f06-59a6-4561-8755-23a47f6e4f2a",
   "metadata": {},
   "outputs": [
    {
     "name": "stdout",
     "output_type": "stream",
     "text": [
      "Epoch 1, Loss: 0.6752879023551941\n",
      "Epoch 2, Loss: 0.6694625616073608\n",
      "Epoch 3, Loss: 0.6638022661209106\n",
      "Epoch 4, Loss: 0.6583067178726196\n",
      "Epoch 5, Loss: 0.6529760360717773\n",
      "Epoch 6, Loss: 0.6478087902069092\n",
      "Epoch 7, Loss: 0.6427993178367615\n",
      "Epoch 8, Loss: 0.6379503607749939\n",
      "Epoch 9, Loss: 0.6332553625106812\n",
      "Epoch 10, Loss: 0.6287055015563965\n"
     ]
    }
   ],
   "source": [
    "epochs = 10\n",
    "for epoch in range(epochs):\n",
    "    with tf.GradientTape() as tape:\n",
    "        logits = model(X_tensor)\n",
    "        loss_value = loss_fn(y_tensor, logits)\n",
    "    grads = tape.gradient(loss_value, model.trainable_weights)\n",
    "    optimizer.apply_gradients(zip(grads, model.trainable_weights))\n",
    "    print(f\"Epoch {epoch+1}, Loss: {loss_value.numpy()}\")"
   ]
  },
  {
   "cell_type": "code",
   "execution_count": 46,
   "id": "d821fef1-2909-41f7-9ad7-d59e9e22ab61",
   "metadata": {},
   "outputs": [],
   "source": [
    "X_test_tensor = tf.convert_to_tensor(X_test, dtype=tf.float32)\n",
    "y_test_tensor = tf.convert_to_tensor(y_test, dtype=tf.int64)"
   ]
  },
  {
   "cell_type": "code",
   "execution_count": 47,
   "id": "389ce39d-0bf4-4d4f-a016-11cb0c0227d1",
   "metadata": {},
   "outputs": [
    {
     "name": "stdout",
     "output_type": "stream",
     "text": [
      "6554/6554 - 3s - 470us/step - accuracy: 0.7910 - loss: 0.6243\n",
      "Test Loss: 0.6242572665214539\n",
      "Test Accuracy: 0.7910497784614563\n"
     ]
    }
   ],
   "source": [
    "model.compile(optimizer=optimizer, loss=loss_fn, metrics=['accuracy'])\n",
    "loss, accuracy = model.evaluate(X_test_tensor, y_test_tensor, verbose=2)\n",
    "print(f\"Test Loss: {loss}\")\n",
    "print(f\"Test Accuracy: {accuracy}\")"
   ]
  },
  {
   "cell_type": "code",
   "execution_count": null,
   "id": "11498270-cee7-4e90-a4a9-c73e836063b4",
   "metadata": {},
   "outputs": [],
   "source": []
  }
 ],
 "metadata": {
  "kernelspec": {
   "display_name": "Python 3 (ipykernel)",
   "language": "python",
   "name": "python3"
  },
  "language_info": {
   "codemirror_mode": {
    "name": "ipython",
    "version": 3
   },
   "file_extension": ".py",
   "mimetype": "text/x-python",
   "name": "python",
   "nbconvert_exporter": "python",
   "pygments_lexer": "ipython3",
   "version": "3.11.7"
  }
 },
 "nbformat": 4,
 "nbformat_minor": 5
}
